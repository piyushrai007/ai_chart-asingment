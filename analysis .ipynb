{
 "cells": [
  {
   "cell_type": "code",
   "execution_count": 14,
   "metadata": {},
   "outputs": [
    {
     "name": "stdout",
     "output_type": "stream",
     "text": [
      "   id                                             review\n",
      "0   1  I love this app! It is so useful and easy to use.\n",
      "1   2  Terrible experience. The app crashes all the t...\n",
      "2   3        Decent app but needs improvement in the UI.\n",
      "3   4           Fantastic! This app has changed my life.\n",
      "4   5       The app is okay, but it lacks many features.\n"
     ]
    }
   ],
   "source": [
    "import pandas as pd\n",
    "\n",
    "# Load the Excel file\n",
    "df = pd.read_excel('user_review.xls')\n",
    "\n",
    "# Display the first few rows of the dataset\n",
    "print(df.head())\n"
   ]
  },
  {
   "cell_type": "code",
   "execution_count": 15,
   "metadata": {},
   "outputs": [
    {
     "name": "stdout",
     "output_type": "stream",
     "text": [
      "   id                                             review\n",
      "0   1  I love this app! It is so useful and easy to use.\n",
      "1   2  Terrible experience. The app crashes all the t...\n",
      "2   3        Decent app but needs improvement in the UI.\n",
      "3   4           Fantastic! This app has changed my life.\n",
      "4   5       The app is okay, but it lacks many features.\n"
     ]
    }
   ],
   "source": [
    "# Drop rows with any null values\n",
    "df.dropna(inplace=True)\n",
    "\n",
    "# Drop unnecessary columns (if any, adjust column names based on your actual dataset)\n",
    "columns_to_drop = ['user_id', 'timestamp']  # Example columns to drop, replace with actual column names if necessary\n",
    "df.drop(columns=columns_to_drop, inplace=True, errors='ignore')\n",
    "\n",
    "# Display the cleaned dataset\n",
    "print(df.head())\n"
   ]
  },
  {
   "cell_type": "code",
   "execution_count": 16,
   "metadata": {},
   "outputs": [
    {
     "name": "stdout",
     "output_type": "stream",
     "text": [
      "   id                                            review\n",
      "0   1   i love this app it is so useful and easy to use\n",
      "1   2  terrible experience the app crashes all the time\n",
      "2   3        decent app but needs improvement in the ui\n",
      "3   4            fantastic this app has changed my life\n",
      "4   5        the app is okay but it lacks many features\n"
     ]
    }
   ],
   "source": [
    "import string\n",
    "\n",
    "def preprocess_text(text):\n",
    "    # Lowercase the text\n",
    "    text = text.lower()\n",
    "    # Remove punctuation\n",
    "    text = text.translate(str.maketrans('', '', string.punctuation))\n",
    "    return text\n",
    "\n",
    "# Apply preprocessing to the review column\n",
    "df['review'] = df['review'].apply(preprocess_text)\n",
    "\n",
    "# Display the preprocessed dataset\n",
    "print(df.head())\n"
   ]
  },
  {
   "cell_type": "code",
   "execution_count": 17,
   "metadata": {},
   "outputs": [
    {
     "name": "stdout",
     "output_type": "stream",
     "text": [
      "   id                                            review sentiment\n",
      "0   1   i love this app it is so useful and easy to use  Positive\n",
      "1   2  terrible experience the app crashes all the time  Negative\n",
      "2   3        decent app but needs improvement in the ui  Positive\n",
      "3   4            fantastic this app has changed my life  Positive\n",
      "4   5        the app is okay but it lacks many features  Positive\n"
     ]
    }
   ],
   "source": [
    "from textblob import TextBlob\n",
    "\n",
    "def analyze_sentiment(text):\n",
    "    # Analyze sentiment using TextBlob\n",
    "    analysis = TextBlob(text)\n",
    "    # Determine sentiment polarity\n",
    "    if analysis.sentiment.polarity > 0:\n",
    "        return 'Positive'\n",
    "    elif analysis.sentiment.polarity < 0:\n",
    "        return 'Negative'\n",
    "    else:\n",
    "        return 'Neutral'\n",
    "\n",
    "# Apply sentiment analysis to the review column\n",
    "df['sentiment'] = df['review'].apply(analyze_sentiment)\n",
    "\n",
    "# Display the dataset with sentiment\n",
    "print(df.head())\n"
   ]
  },
  {
   "cell_type": "code",
   "execution_count": 18,
   "metadata": {},
   "outputs": [
    {
     "name": "stdout",
     "output_type": "stream",
     "text": [
      "sentiment\n",
      "Positive    32\n",
      "Negative    10\n",
      "Neutral      8\n",
      "Name: count, dtype: int64\n"
     ]
    },
    {
     "data": {
      "image/png": "[encoded data removed]",
      "text/plain": [
       "<Figure size 640x480 with 1 Axes>"
      ]
     },
     "metadata": {},
     "output_type": "display_data"
    }
   ],
   "source": [
    "# Generate the summary report\n",
    "sentiment_counts = df['sentiment'].value_counts()\n",
    "\n",
    "# Display the summary report\n",
    "print(sentiment_counts)\n",
    "\n",
    "# Optionally, plot the distribution of sentiments\n",
    "import matplotlib.pyplot as plt\n",
    "\n",
    "sentiment_counts.plot(kind='bar')\n",
    "plt.xlabel('Sentiment')\n",
    "plt.ylabel('Number of Reviews')\n",
    "plt.title('Sentiment Distribution')\n",
    "plt.show()\n"
   ]
  },
  {
   "cell_type": "code",
   "execution_count": null,
   "metadata": {},
   "outputs": [],
   "source": []
  }
 ],
 "metadata": {
  "kernelspec": {
   "display_name": "Python 3",
   "language": "python",
   "name": "python3"
  },
  "language_info": {
   "codemirror_mode": {
    "name": "ipython",
    "version": 3
   },
   "file_extension": ".py",
   "mimetype": "text/x-python",
   "name": "python",
   "nbconvert_exporter": "python",
   "pygments_lexer": "ipython3",
   "version": "3.12.3"
  }
 },
 "nbformat": 4,
 "nbformat_minor": 2
}
